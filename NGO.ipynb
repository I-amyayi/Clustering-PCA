{
 "cells": [
  {
   "cell_type": "markdown",
   "id": "11514453-25f8-4797-84df-4bea3450651f",
   "metadata": {},
   "source": [
    "# Unsupervised Learning on Country Data"
   ]
  },
  {
   "cell_type": "code",
   "execution_count": null,
   "id": "66520dea-f93d-4df5-8e44-6a9fb22be6ab",
   "metadata": {},
   "outputs": [],
   "source": []
  }
 ],
 "metadata": {
  "kernelspec": {
   "display_name": "Python 3 (ipykernel)",
   "language": "python",
   "name": "python3"
  },
  "language_info": {
   "codemirror_mode": {
    "name": "ipython",
    "version": 3
   },
   "file_extension": ".py",
   "mimetype": "text/x-python",
   "name": "python",
   "nbconvert_exporter": "python",
   "pygments_lexer": "ipython3",
   "version": "3.11.4"
  }
 },
 "nbformat": 4,
 "nbformat_minor": 5
}
